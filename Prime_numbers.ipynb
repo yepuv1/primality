{
  "nbformat": 4,
  "nbformat_minor": 0,
  "metadata": {
    "colab": {
      "name": "Prime_numbers.ipynb",
      "version": "0.3.2",
      "provenance": [],
      "toc_visible": true,
      "include_colab_link": true
    },
    "kernelspec": {
      "name": "python3",
      "display_name": "Python 3"
    },
    "accelerator": "GPU"
  },
  "cells": [
    {
      "cell_type": "markdown",
      "metadata": {
        "id": "view-in-github",
        "colab_type": "text"
      },
      "source": [
        "[View in Colaboratory](https://colab.research.google.com/github/yepuv1/primality/blob/master/Prime_numbers.ipynb)"
      ]
    },
    {
      "metadata": {
        "id": "2jzgR0d2IyGk",
        "colab_type": "text"
      },
      "cell_type": "markdown",
      "source": [
        "# Primality test using ANN.\n",
        "\n",
        "The aim is to train a ANN Model on a small sample of primes from a finite prime numbers set.  In this notebook, I am generating the primes within 1M, which has 78K primes. The model is trained on a sample of 5k from this 78k prime set. What is interesting is that the model accuracy is 99.6% when testing for primality of the 78k primes. The accuracy drops rapidly for samples outside this 78k range of primes.\n",
        "\n"
      ]
    },
    {
      "metadata": {
        "id": "Vt3N4SfII4LO",
        "colab_type": "code",
        "colab": {}
      },
      "cell_type": "code",
      "source": [
        "import math\n",
        "import numpy as np\n",
        "import h5py\n",
        "import matplotlib.pyplot as plt\n",
        "import tensorflow as tf\n",
        "import sympy \n",
        "from tensorflow.python.framework import ops\n",
        "from sympy import primerange, sieve, composite, prime\n",
        "import pickle\n",
        "import timeit\n",
        "np.random.seed(1)\n",
        "from PIL import Image, ImageColor\n",
        "%matplotlib inline\n",
        "import os"
      ],
      "execution_count": 0,
      "outputs": []
    },
    {
      "metadata": {
        "id": "DVCJrBVzaeMq",
        "colab_type": "code",
        "colab": {
          "base_uri": "https://localhost:8080/",
          "height": 51
        },
        "outputId": "920da8fd-349b-470f-a2e1-e4450fd46771"
      },
      "cell_type": "code",
      "source": [
        "print(tf.__version__)\n",
        "device_name = tf.test.gpu_device_name()\n",
        "if device_name != '/device:GPU:0':\n",
        "  raise SystemError('GPU device not found')\n",
        "print('Found GPU at: {}'.format(device_name))"
      ],
      "execution_count": 2,
      "outputs": [
        {
          "output_type": "stream",
          "text": [
            "1.11.0\n",
            "Found GPU at: /device:GPU:0\n"
          ],
          "name": "stdout"
        }
      ]
    },
    {
      "metadata": {
        "id": "lzip8WEnmzcz",
        "colab_type": "code",
        "colab": {}
      },
      "cell_type": "code",
      "source": [
        "def convert_dec2bin(num_list,feature_size):\n",
        "  p_x = None\n",
        "  for p in num_list:\n",
        "    pb = bin(p)[2:].zfill(32)\n",
        "    li = [ int(i) for i in pb]\n",
        "    a1 = np.array(li).reshape((feature_size,1))\n",
        "    if p_x is None:\n",
        "      p_x = a1\n",
        "    else:\n",
        "      p_x = np.concatenate((p_x, a1), axis=1)\n",
        "  return p_x"
      ],
      "execution_count": 0,
      "outputs": []
    },
    {
      "metadata": {
        "id": "JaYeajqdnsaK",
        "colab_type": "code",
        "colab": {}
      },
      "cell_type": "code",
      "source": [
        "def generate_sequence_primes(between):\n",
        "  start, end = between\n",
        "  p_num = [i for i in primerange(start, end)]\n",
        "  return p_num, len(p_num)"
      ],
      "execution_count": 0,
      "outputs": []
    },
    {
      "metadata": {
        "id": "csiqiIAPoFY6",
        "colab_type": "code",
        "colab": {}
      },
      "cell_type": "code",
      "source": [
        "def generate_random_primes(size, primes):\n",
        "  le = len(primes)\n",
        "  p_num = [primes[i] for i in np.random.randint(le , size=size)]\n",
        "  return p_num, size"
      ],
      "execution_count": 0,
      "outputs": []
    },
    {
      "metadata": {
        "id": "bjE0-TbPrxWC",
        "colab_type": "code",
        "colab": {}
      },
      "cell_type": "code",
      "source": [
        "def generate_composite(size, primes_set):\n",
        "  c_num = np.random.randint(10000000, size=size)\n",
        "  c_num = set(c_num)\n",
        "  c_num = c_num - primes_set\n",
        "  return list(c_num), len(c_num)\n",
        "\n",
        "  "
      ],
      "execution_count": 0,
      "outputs": []
    },
    {
      "metadata": {
        "id": "BB2wBmpCrgym",
        "colab_type": "code",
        "colab": {}
      },
      "cell_type": "code",
      "source": [
        "def generate_x_y(primes=None, composites=None, feature_size=32, ):\n",
        "  c_examples_size = 0\n",
        "  c_x = None\n",
        "  c_y = None\n",
        "  p_examples_size = 0\n",
        "  p_x = None\n",
        "  p_y = None\n",
        "  X = None\n",
        "  Y = None\n",
        " \n",
        "  if primes is not None :\n",
        "    p_examples_size = len(primes)\n",
        "    p_x = convert_dec2bin(primes, feature_size)\n",
        "    p_y = np.ones(shape=(1,p_examples_size), dtype=np.int32)\n",
        "\n",
        "  if composites is not None:\n",
        "    c_examples_size = len(composites)\n",
        "    c_x = convert_dec2bin(composites, feature_size)\n",
        "    c_y = np.zeros(shape=(1,c_examples_size), dtype=np.int32)\n",
        "  \n",
        "  if c_x is not None and p_x is not None:\n",
        "    X = np.concatenate((c_x, p_x), axis=1)\n",
        "    size = p_examples_size + c_examples_size\n",
        "    Y = np.append(c_y, p_y).reshape((1, size))\n",
        "  elif p_x is not None:\n",
        "    X = p_x\n",
        "    Y = p_y\n",
        "    size = p_examples_size\n",
        "  elif c_x is not None:\n",
        "    X = c_x\n",
        "    Y = c_y\n",
        "    size = c_examples_size\n",
        "    \n",
        "    \n",
        "  return X, Y, size\n",
        "  "
      ],
      "execution_count": 0,
      "outputs": []
    },
    {
      "metadata": {
        "id": "FuylRcKL5aYS",
        "colab_type": "code",
        "colab": {}
      },
      "cell_type": "code",
      "source": [
        "def one_hot_matrix(labels, C):\n",
        "    \"\"\"\n",
        "    Creates a matrix where the i-th row corresponds to the ith class number and the jth column\n",
        "                     corresponds to the jth training example. So if example j had a label i. Then entry (i,j) \n",
        "                     will be 1. \n",
        "                     \n",
        "    Arguments:\n",
        "    labels -- vector containing the labels \n",
        "    C -- number of classes, the depth of the one hot dimension\n",
        "    \n",
        "    Returns: \n",
        "    one_hot -- one hot matrix\n",
        "    \"\"\"\n",
        "    \n",
        "    C = tf.constant(dtype=tf.int32, name=\"C\", value=C)\n",
        "    one_hot_matrix = tf.one_hot(labels,depth=C, axis=0)\n",
        "    with tf.Session() as sess:\n",
        "      one_hot = sess.run(one_hot_matrix)\n",
        "   \n",
        "    return one_hot\n"
      ],
      "execution_count": 0,
      "outputs": []
    },
    {
      "metadata": {
        "id": "3bcGcl5w5d5y",
        "colab_type": "code",
        "colab": {}
      },
      "cell_type": "code",
      "source": [
        "def create_placeholders(n_x, n_y):\n",
        "    \"\"\"\n",
        "    Creates the placeholders for the tensorflow session.\n",
        "    \n",
        "    Arguments:\n",
        "    n_x -- scalar, size of input vector \n",
        "    n_y -- scalar, number of classes (from 0 to 1, so -> 2)\n",
        "    \n",
        "    Returns:\n",
        "    X -- placeholder for the data input, of shape [n_x, None] and dtype \"float\"\n",
        "    Y -- placeholder for the input labels, of shape [n_y, None] and dtype \"float\"\n",
        "    \n",
        "    Tips:\n",
        "    - You will use None because it let's us be flexible on the number of examples you will for the placeholders.\n",
        "      In fact, the number of examples during test/train is different.\n",
        "    \"\"\"\n",
        "\n",
        "    X = tf.placeholder(tf.float32, shape=(n_x, None))\n",
        "    Y = tf.placeholder(tf.float32, shape=(n_y, None))\n",
        "\n",
        "    \n",
        "    return X, Y"
      ],
      "execution_count": 0,
      "outputs": []
    },
    {
      "metadata": {
        "id": "TMJgA9ON5i29",
        "colab_type": "code",
        "colab": {}
      },
      "cell_type": "code",
      "source": [
        "def initialize_parameters(dic_of_layer_sizes):\n",
        "    \"\"\"\n",
        "    Initializes parameters to build a neural network with tensorflow. The shapes are:\n",
        "                        W1 : [25, 2]\n",
        "                        b1 : [25, 1]\n",
        "                        W2 : [12, 25]\n",
        "                        b2 : [12, 1]\n",
        "                        W3 : [6, 12]\n",
        "                        b3 : [6, 1]\n",
        "    \n",
        "    Returns:\n",
        "    parameters -- a dictionary of tensors containing W1, b1, W2, b2, W3, b3\n",
        "    \"\"\"\n",
        "    \n",
        "    tf.set_random_seed(1) \n",
        "        \n",
        "    \n",
        "    parameters ={}\n",
        "    for key, value in dic_of_layer_sizes.items():\n",
        "      print(key)\n",
        "      print(value)\n",
        "      parameters[key]=tf.get_variable(key, value, initializer = tf.contrib.layers.xavier_initializer(seed = 1))\n",
        "    \n",
        "    \n",
        "    return parameters"
      ],
      "execution_count": 0,
      "outputs": []
    },
    {
      "metadata": {
        "id": "eukTAt3j5oSP",
        "colab_type": "code",
        "colab": {}
      },
      "cell_type": "code",
      "source": [
        "def forward_propagation(X, parameters):\n",
        "    \"\"\"\n",
        "    Implements the forward propagation for the model: LINEAR -> RELU -> LINEAR ->  SOFTMAX\n",
        "    \n",
        "    Arguments:\n",
        "    X -- input dataset placeholder, of shape (input size, number of examples)\n",
        "    parameters -- python dictionary containing your parameters \"W1\", \"b1\", \"W2\", \"b2\", \"W3\", \"b3\"\n",
        "                  the shapes are given in initialize_parameters\n",
        "\n",
        "    Returns:\n",
        "    Z3 -- the output of the last LINEAR unit\n",
        "    \"\"\"\n",
        "    \n",
        "    # Retrieve the parameters from the dictionary \"parameters\" \n",
        "    W1 = parameters['W1']\n",
        "    b1 = parameters['b1']\n",
        "    W2 = parameters['W2']\n",
        "    b2 = parameters['b2']\n",
        "              \n",
        "    Z1 = tf.add(tf.matmul(W1, X), b1)  # LINEAR                                         \n",
        "    A1 = tf.nn.relu(Z1)                # RELU                           \n",
        "    Z2 = tf.add(tf.matmul(W2, A1), b2) # LINEAR                                           \n",
        "\n",
        "    return Z2"
      ],
      "execution_count": 0,
      "outputs": []
    },
    {
      "metadata": {
        "id": "bIijGlgV5svy",
        "colab_type": "code",
        "colab": {}
      },
      "cell_type": "code",
      "source": [
        "def compute_cost(Z3, Y):\n",
        "    \"\"\"\n",
        "    Computes the cost\n",
        "    \n",
        "    Arguments:\n",
        "    Z3 -- output of forward propagation (output of the last LINEAR unit), of shape (6, number of examples)\n",
        "    Y -- \"true\" labels vector placeholder, same shape as Z3\n",
        "    \n",
        "    Returns:\n",
        "    cost - Tensor of the cost function\n",
        "    \"\"\"\n",
        "    \n",
        "    # to fit the tensorflow requirement for tf.nn.softmax_cross_entropy_with_logits(...,...)\n",
        "    logits = tf.transpose(Z3)\n",
        "    labels = tf.transpose(Y)\n",
        "    \n",
        "    cost = tf.reduce_mean(tf.nn.softmax_cross_entropy_with_logits_v2(logits = logits, labels = labels))\n",
        "    \n",
        "    \n",
        "    return cost"
      ],
      "execution_count": 0,
      "outputs": []
    },
    {
      "metadata": {
        "id": "djJrXWD05zyF",
        "colab_type": "code",
        "colab": {}
      },
      "cell_type": "code",
      "source": [
        "def random_mini_batches(X, Y, mini_batch_size = 64, seed = 0):\n",
        "    \"\"\"\n",
        "    Creates a list of random minibatches from (X, Y)\n",
        "    \n",
        "    Arguments:\n",
        "    X -- input data, of shape (input size, number of examples)\n",
        "    Y -- true \"label\" vector (containing 0 if cat, 1 if non-cat), of shape (1, number of examples)\n",
        "    mini_batch_size - size of the mini-batches, integer\n",
        "    seed -- this is only for the purpose of grading, so that you're \"random minibatches are the same as ours.\n",
        "    \n",
        "    Returns:\n",
        "    mini_batches -- list of synchronous (mini_batch_X, mini_batch_Y)\n",
        "    \"\"\"\n",
        "    \n",
        "    m = X.shape[1]                  # number of training examples\n",
        "    mini_batches = []\n",
        "    np.random.seed(seed)\n",
        "    \n",
        "    # Step 1: Shuffle (X, Y)\n",
        "    permutation = list(np.random.permutation(m))\n",
        "    shuffled_X = X[:, permutation]\n",
        "    shuffled_Y = Y[:, permutation].reshape((Y.shape[0],m))\n",
        "\n",
        "    # Step 2: Partition (shuffled_X, shuffled_Y). Minus the end case.\n",
        "    num_complete_minibatches = math.floor(m/mini_batch_size) # number of mini batches of size mini_batch_size in your partitionning\n",
        "    for k in range(0, num_complete_minibatches):\n",
        "        mini_batch_X = shuffled_X[:, k * mini_batch_size : k * mini_batch_size + mini_batch_size]\n",
        "        mini_batch_Y = shuffled_Y[:, k * mini_batch_size : k * mini_batch_size + mini_batch_size]\n",
        "        mini_batch = (mini_batch_X, mini_batch_Y)\n",
        "        mini_batches.append(mini_batch)\n",
        "    \n",
        "    # Handling the end case (last mini-batch < mini_batch_size)\n",
        "    if m % mini_batch_size != 0:\n",
        "        mini_batch_X = shuffled_X[:, num_complete_minibatches * mini_batch_size : m]\n",
        "        mini_batch_Y = shuffled_Y[:, num_complete_minibatches * mini_batch_size : m]\n",
        "        mini_batch = (mini_batch_X, mini_batch_Y)\n",
        "        mini_batches.append(mini_batch)\n",
        "    \n",
        "    return mini_batches"
      ],
      "execution_count": 0,
      "outputs": []
    },
    {
      "metadata": {
        "id": "Y21f0_e451Fs",
        "colab_type": "code",
        "colab": {}
      },
      "cell_type": "code",
      "source": [
        "def model(X_train, Y_train, X_test, Y_test,dic_of_layer_sizes,learning_rate = 0.0001,\n",
        "          num_epochs = 1024, minibatch_size = 32, print_cost = True):\n",
        "    \"\"\"\n",
        "    Implements a three-layer tensorflow neural network: LINEAR->RELU->LINEAR->RELU->LINEAR->SOFTMAX.\n",
        "    \n",
        "    Arguments:\n",
        "    X_train -- training set, of shape (input size = 12288, number of training examples = 1080)\n",
        "    Y_train -- test set, of shape (output size = 6, number of training examples = 1080)\n",
        "    X_test -- training set, of shape (input size = 12288, number of training examples = 120)\n",
        "    Y_test -- test set, of shape (output size = 6, number of test examples = 120)\n",
        "    dic_of_layer_sizes - dictionary of W<n> b<n> sizes as [x,y]\n",
        "    learning_rate -- learning rate of the optimization\n",
        "    num_epochs -- number of epochs of the optimization loop\n",
        "    minibatch_size -- size of a minibatch\n",
        "    print_cost -- True to print the cost every 100 epochs\n",
        "    \n",
        "    Returns:\n",
        "    parameters -- parameters learnt by the model. They can then be used to predict.\n",
        "    \"\"\"\n",
        "    config = tf.ConfigProto()\n",
        "    config.gpu_options.allow_growth = True\n",
        "    \n",
        "    with tf.device('/gpu:0'):\n",
        "\n",
        "      ops.reset_default_graph()                         # to be able to rerun the model without overwriting tf variables\n",
        "      tf.set_random_seed(1)                             # to keep consistent results\n",
        "      seed = 3                                          # to keep consistent results\n",
        "      (n_x, m) = X_train.shape                          # (n_x: input size, m : number of examples in the train set)\n",
        "      n_y = Y_train.shape[0]                            # n_y : output size\n",
        "      costs = []                                        # To keep track of the cost\n",
        "\n",
        "      # Create Placeholders of shape (n_x, n_y)\n",
        "      X, Y = create_placeholders(n_x, n_y)\n",
        "\n",
        "      # Initialize parameters\n",
        "      parameters = initialize_parameters(dic_of_layer_sizes)\n",
        "\n",
        "      # Forward propagation: Build the forward propagation in the tensorflow graph\n",
        "      Z3 = forward_propagation(X=X, parameters=parameters)\n",
        "\n",
        "      # Cost function: Add cost function to tensorflow graph\n",
        "      cost = compute_cost(Y=Y,Z3=Z3)\n",
        "\n",
        "      # Backpropagation: Define the tensorflow optimizer. Use an AdamOptimizer.\n",
        "      optimizer = tf.train.AdamOptimizer(learning_rate = learning_rate).minimize(cost)\n",
        "\n",
        "\n",
        "      # Initialize all the variables\n",
        "      init = tf.global_variables_initializer()\n",
        "\n",
        "    # Start the session to compute the tensorflow graph\n",
        "    with tf.Session(config=config) as sess:\n",
        "        \n",
        "        # Run the initialization\n",
        "        sess.run(init)\n",
        "        \n",
        "        # Do the training loop\n",
        "        for epoch in range(num_epochs):\n",
        "\n",
        "            epoch_cost = 0.                       # Defines a cost related to an epoch\n",
        "            num_minibatches = int(m / minibatch_size) # number of minibatches of size minibatch_size in the train set\n",
        "            seed = seed + 1\n",
        "            minibatches = random_mini_batches(X_train, Y_train, minibatch_size, seed)\n",
        "\n",
        "            for minibatch in minibatches:\n",
        "\n",
        "                # Select a minibatch\n",
        "                (minibatch_X, minibatch_Y) = minibatch\n",
        "                \n",
        "                # IMPORTANT: The line that runs the graph on a minibatch.\n",
        "                # Run the session to execute the \"optimizer\" and the \"cost\", the feedict should contain a minibatch for (X,Y).\n",
        "                \n",
        "                _ , minibatch_cost = sess.run([optimizer, cost], feed_dict={X: minibatch_X, Y: minibatch_Y})\n",
        "                \n",
        "                epoch_cost += minibatch_cost / num_minibatches\n",
        "\n",
        "            # Print the cost every epoch\n",
        "            if print_cost == True and epoch % 100 == 0:\n",
        "                print (\"Cost after epoch %i: %f\" % (epoch, epoch_cost))\n",
        "            if print_cost == True and epoch % 5 == 0:\n",
        "                costs.append(epoch_cost)\n",
        "                \n",
        "        # plot the cost\n",
        "        \n",
        "        plt.plot(np.squeeze(costs))\n",
        "        plt.ylabel('cost')\n",
        "        plt.xlabel('iterations (per tens)')\n",
        "        plt.title(\"Learning rate =\" + str(learning_rate))\n",
        "        plt.show()\n",
        "        \n",
        "       \n",
        "        \n",
        "  \n",
        "\n",
        "        # lets save the parameters in a variable\n",
        "        parameters = sess.run(parameters)\n",
        "        print (\"Parameters have been trained!\")\n",
        "\n",
        "        # Calculate the correct predictions\n",
        "        correct_prediction = tf.equal(tf.argmax(Z3), tf.argmax(Y))\n",
        "\n",
        "        # Calculate accuracy on the test set\n",
        "        accuracy = tf.reduce_mean(tf.cast(correct_prediction, \"float\"))\n",
        "\n",
        "        print (\"Train Accuracy:\", accuracy.eval({X: X_train, Y: Y_train}))\n",
        "        print (\"Test Accuracy:\", accuracy.eval({X: X_test, Y: Y_test}))\n",
        "        \n",
        "        return parameters"
      ],
      "execution_count": 0,
      "outputs": []
    },
    {
      "metadata": {
        "id": "w20OzcWyHe8m",
        "colab_type": "code",
        "colab": {}
      },
      "cell_type": "code",
      "source": [
        "def test_inference(X, Y):\n",
        "  config = tf.ConfigProto()\n",
        "  config.gpu_options.allow_growth = True\n",
        "  \n",
        "  with tf.device('/gpu:0'):\n",
        "    Y = one_hot_matrix(Y.reshape(size), 2)\n",
        "    init = tf.global_variables_initializer()\n",
        "  with tf.Session(config=config) as session:\n",
        "    session.run(init)\n",
        "    z3 = forward_propagation(np.float32(X), parameters)\n",
        "    p = tf.argmax(z3)\n",
        "    res = session.run(p)\n",
        "\n",
        "    # Calculate the correct predictions\n",
        "    correct_prediction = tf.equal(res, tf.argmax(Y))\n",
        "    # Calculate accuracy on the test set\n",
        "    accuracy = tf.reduce_mean(tf.cast(correct_prediction, \"float\"))\n",
        "  \n",
        "    return accuracy.eval(), res\n"
      ],
      "execution_count": 0,
      "outputs": []
    },
    {
      "metadata": {
        "id": "FRRGzwxCHu0u",
        "colab_type": "code",
        "colab": {}
      },
      "cell_type": "code",
      "source": [
        "def inference(X):\n",
        "  config = tf.ConfigProto()\n",
        "  config.gpu_options.allow_growth = True\n",
        "  accuracies = []\n",
        "  with tf.device('/gpu:0'):\n",
        "    init = tf.global_variables_initializer()\n",
        "  with tf.Session(config=config) as session:\n",
        "    session.run(init)\n",
        "    z3 = forward_propagation(np.float32(X), parameters)\n",
        "    p = tf.argmax(z3)\n",
        "    res = session.run(p)\n",
        "    return res\n"
      ],
      "execution_count": 0,
      "outputs": []
    },
    {
      "metadata": {
        "id": "8EWVRZ7WFoM6",
        "colab_type": "code",
        "colab": {}
      },
      "cell_type": "code",
      "source": [
        "\n",
        "def matrix_to_image(data):\n",
        "  im = Image.new('RGBA', data.shape, 'red')\n",
        "  for x in range(data.shape[0]):\n",
        "    for y in range(data.shape[1]):\n",
        "      if data[x,y] == 1:\n",
        "        if x % 2 == 0:\n",
        "          im.putpixel((x, y), ImageColor.getcolor('green', 'RGBA'))\n",
        "        else:\n",
        "          im.putpixel((x, y), ImageColor.getcolor('green', 'RGBA'))\n",
        "        \n",
        "  multiplier = 1\n",
        "  xfactor = 1\n",
        "  yfactor = 1\n",
        "  Xsize = multiplier * xfactor* data.shape[0]\n",
        "  Ysize = multiplier * yfactor* data.shape[1]\n",
        "  im = im.resize((Xsize, Ysize), resample=0)\n",
        "  return im\n",
        "\n",
        "\n",
        "def show_pattern(image_list, titles):\n",
        "  nrows = len(image_list)\n",
        "  \n",
        "  l = len(image_list)\n",
        "  fig, ax = plt.subplots(nrows=nrows, ncols=1, figsize=(6, 6 * l), dpi= 96)\n",
        "  \n",
        "  if l == 1:\n",
        "    ax.set_axisbelow(True)\n",
        "\n",
        "    # Turn on the minor TICKS, which are required for the minor GRID\n",
        "    ax.minorticks_on()\n",
        "    ax.grid(which='minor', linestyle=':', linewidth='0.75', color='white')\n",
        "    ax.set_ylabel('primes')\n",
        "    ax.set_xlabel('bits (32)')\n",
        "    ax.set_title(titles[0])\n",
        "    #ax.grid(True)\n",
        "    ax.imshow(image_list[0], aspect='auto')\n",
        "    \n",
        "  else:\n",
        "    for r, im in enumerate(image_list):\n",
        "      ax[r].set_axisbelow(True)\n",
        "\n",
        "      # Turn on the minor TICKS, which are required for the minor GRID\n",
        "      ax[r].minorticks_on()\n",
        "      ax[r].grid(which='minor', linestyle=':', linewidth='0.75', color='white')\n",
        "      #ax[r].grid(True)\n",
        "      ax[r].set_ylabel('primes')\n",
        "      ax[r].set_xlabel('bits (32))')\n",
        "      ax[r].set_title(titles[r])\n",
        "      ax[r].imshow(im, aspect='auto')\n"
      ],
      "execution_count": 0,
      "outputs": []
    },
    {
      "metadata": {
        "id": "lUT1MsbbErvL",
        "colab_type": "text"
      },
      "cell_type": "markdown",
      "source": [
        "## Generate Primes \n"
      ]
    },
    {
      "metadata": {
        "id": "3YFzGxvVEpSt",
        "colab_type": "code",
        "colab": {}
      },
      "cell_type": "code",
      "source": [
        "PRIMES_FILENAME = \"primes.p\"\n",
        "def save_primes(file, start, end):\n",
        "  p_num = [i for i in primerange(start, end)]\n",
        "  pickle.dump( p_num, open(file, \"wb\" ))\n",
        "  return p_num\n",
        "\n",
        "def load_primes(file):\n",
        " return pickle.load(open(file, \"rb\" ))\n",
        "\n"
      ],
      "execution_count": 0,
      "outputs": []
    },
    {
      "metadata": {
        "id": "qb74-l5LRPDv",
        "colab_type": "code",
        "colab": {
          "base_uri": "https://localhost:8080/",
          "height": 68
        },
        "outputId": "a87876f5-d3d9-4e85-ca9d-f233b77f041e"
      },
      "cell_type": "code",
      "source": [
        "%%time\n",
        "start = 10000000\n",
        "end = 90000000\n",
        "if not os.path.exists(PRIMES_FILENAME):\n",
        "  PRIMES = save_primes(PRIMES_FILENAME, start, end)\n",
        "else:\n",
        "  PRIMES = load_primes(PRIMES_FILENAME)\n",
        "  \n",
        "print(len(PRIMES))"
      ],
      "execution_count": 21,
      "outputs": [
        {
          "output_type": "stream",
          "text": [
            "4552375\n",
            "CPU times: user 2min 49s, sys: 1.21 s, total: 2min 51s\n",
            "Wall time: 2min 51s\n"
          ],
          "name": "stdout"
        }
      ]
    },
    {
      "metadata": {
        "id": "Ti3rnCde8XG0",
        "colab_type": "text"
      },
      "cell_type": "markdown",
      "source": [
        "## Model Training\n",
        "\n",
        "1.   Sample some primes from PRIMES generated above \n",
        "2.   Generate similar amount of composite numbers\n",
        "3.   Sample 100 primes from PRIMES  for dev and make sure they are not in Training set.\n"
      ]
    },
    {
      "metadata": {
        "id": "3Y8qWblu6cKU",
        "colab_type": "code",
        "colab": {}
      },
      "cell_type": "code",
      "source": [
        "def train_data(examples_size = 5000):\n",
        "  \n",
        "  primes_set = set(PRIMES)\n",
        "  c, size = generate_composite(examples_size, primes_set)\n",
        "  p, size = generate_random_primes(examples_size,PRIMES)\n",
        "  s_p_train = set(p)\n",
        "  X_train, Y_train, training_size = generate_x_y(p,c)\n",
        "  \n",
        "  \n",
        "  examples_size = 100\n",
        "  c, size = generate_composite(examples_size, primes_set)\n",
        "  p, size = generate_random_primes(examples_size,PRIMES)\n",
        "\n",
        "  # remove the primes common for both test and train\n",
        "  s_p_test = set(p)\n",
        "  s_p_test = s_p_test - s_p_train\n",
        "  X_test, Y_test, test_size = generate_x_y(list(s_p_test),c)\n",
        "  \n",
        "  \n",
        "  \n",
        "  Y_train = one_hot_matrix(Y_train.reshape(training_size), 2)\n",
        "  Y_test = one_hot_matrix(Y_test.reshape(test_size), 2)\n",
        "\n",
        "\n",
        "  print (\"number of training examples = \" + str(X_train.shape[1]))\n",
        "  print (\"number of test examples = \" + str(X_test.shape[1]))\n",
        "  print (\"X_train shape: \" + str(X_train.shape))\n",
        "  print (\"Y_train shape: \" + str(Y_train.shape))\n",
        "  print (\"X_test shape: \" + str(X_test.shape))\n",
        "  print (\"Y_test shape: \" + str(Y_test.shape))\n",
        "  show_pattern([matrix_to_image(X_train), matrix_to_image(X_test)], ['X_train', 'X_test'])\n",
        "  \n",
        "  return X_train, Y_train, training_size, X_test, Y_test, test_size\n",
        "  \n",
        "\n",
        "def main(X_train, Y_train, training_size, X_test, Y_test, test_size ):\n",
        "  \n",
        "  \n",
        "  dic_of_layer_sizes ={\n",
        "      \"W1\":[64,32],\n",
        "      \"b1\":[64,1],\n",
        "      \"W2\":[2,64],\n",
        "      \"b2\":[2,1]\n",
        "  }\n",
        "\n",
        "  parameters = model(\n",
        "      X_train, \n",
        "      Y_train, \n",
        "      X_test, \n",
        "      Y_test, \n",
        "      dic_of_layer_sizes, \n",
        "      num_epochs=1000,\n",
        "      minibatch_size=64\n",
        "  )\n",
        "  return parameters\n",
        "  \n"
      ],
      "execution_count": 0,
      "outputs": []
    },
    {
      "metadata": {
        "id": "AcFmced5nHYx",
        "colab_type": "text"
      },
      "cell_type": "markdown",
      "source": [
        "##Random sampled Inputs for both Train and Dev to the model and Visualization"
      ]
    },
    {
      "metadata": {
        "id": "Ae3TelZ2gfIN",
        "colab_type": "code",
        "colab": {
          "base_uri": "https://localhost:8080/",
          "height": 1068
        },
        "outputId": "44aff3d1-0abb-4455-9d28-14df787f2f69"
      },
      "cell_type": "code",
      "source": [
        "X_train, Y_train, training_size, X_test, Y_test, test_size = train_data(5000)"
      ],
      "execution_count": 23,
      "outputs": [
        {
          "output_type": "stream",
          "text": [
            "number of training examples = 9999\n",
            "number of test examples = 200\n",
            "X_train shape: (32, 9999)\n",
            "Y_train shape: (2, 9999)\n",
            "X_test shape: (32, 200)\n",
            "Y_test shape: (2, 200)\n"
          ],
          "name": "stdout"
        },
        {
          "output_type": "display_data",
          "data": {
            "image/png": "[encoded data removed]",
            "text/plain": [
              "<matplotlib.figure.Figure at 0x7fa08a9a50f0>"
            ]
          },
          "metadata": {
            "tags": []
          }
        }
      ]
    },
    {
      "metadata": {
        "id": "TBpl6yNCng_x",
        "colab_type": "text"
      },
      "cell_type": "markdown",
      "source": [
        "## Training Phase"
      ]
    },
    {
      "metadata": {
        "id": "QC4VrfdJgn3X",
        "colab_type": "code",
        "colab": {
          "base_uri": "https://localhost:8080/",
          "height": 651
        },
        "outputId": "8ce5946c-a9cb-4489-d3f4-1b13b52e3418"
      },
      "cell_type": "code",
      "source": [
        "parameters = main(X_train, Y_train, training_size, X_test, Y_test, test_size)"
      ],
      "execution_count": 24,
      "outputs": [
        {
          "output_type": "stream",
          "text": [
            "W1\n",
            "[64, 32]\n",
            "b1\n",
            "[64, 1]\n",
            "W2\n",
            "[2, 64]\n",
            "b2\n",
            "[2, 1]\n",
            "Cost after epoch 0: 0.745473\n",
            "Cost after epoch 100: 0.007074\n",
            "Cost after epoch 200: 0.000997\n",
            "Cost after epoch 300: 0.000154\n",
            "Cost after epoch 400: 0.000018\n",
            "Cost after epoch 500: 0.000002\n",
            "Cost after epoch 600: 0.000000\n",
            "Cost after epoch 700: 0.000000\n",
            "Cost after epoch 800: 0.000000\n",
            "Cost after epoch 900: 0.000000\n"
          ],
          "name": "stdout"
        },
        {
          "output_type": "display_data",
          "data": {
            "image/png": "[encoded data removed]",
            "text/plain": [
              "<matplotlib.figure.Figure at 0x7fa07f95ffd0>"
            ]
          },
          "metadata": {
            "tags": []
          }
        },
        {
          "output_type": "stream",
          "text": [
            "Parameters have been trained!\n",
            "Train Accuracy: 1.0\n",
            "Test Accuracy: 1.0\n"
          ],
          "name": "stdout"
        }
      ]
    },
    {
      "metadata": {
        "id": "iLk7HIxwGgoP",
        "colab_type": "text"
      },
      "cell_type": "markdown",
      "source": [
        "##  Inference - Random sample test.\n",
        "\n",
        "Test for random sample of primes  of sizes 10k to 50k from the population PRIMES\n"
      ]
    },
    {
      "metadata": {
        "id": "gyeGlOmtVLwE",
        "colab_type": "text"
      },
      "cell_type": "markdown",
      "source": [
        "Composite Test"
      ]
    },
    {
      "metadata": {
        "id": "dcZGTRTLRWPO",
        "colab_type": "code",
        "colab": {
          "base_uri": "https://localhost:8080/",
          "height": 294
        },
        "outputId": "c9f207a8-f01d-41d7-d474-9094953e39e9"
      },
      "cell_type": "code",
      "source": [
        "\n",
        "\"\"\"step_size = 1000\n",
        "start = 1000\n",
        "end = 10000\n",
        "\n",
        "primes_set = set(PRIMES)\n",
        "\n",
        "accuracies = []\n",
        "for c_size in range(start, end, step_size):\n",
        "  #print(start, end)\n",
        "  c, size = generate_composite(c_size, primes_set)\n",
        "  X, Y, size = generate_x_y(None,c)\n",
        "  #print(X.shape)\n",
        "  accuracy, res = test_inference(X,Y)\n",
        "  #print(accuracy)\n",
        "  accuracies.append(accuracy)\n",
        "\n",
        "\n",
        "# plot the cost\n",
        "plt.plot(np.squeeze(accuracies))\n",
        "plt.ylabel('accuracies')\n",
        "plt.xlabel('iterations')\n",
        "plt.title(\"Step size =\" + str(step_size))\n",
        "plt.show()\"\"\""
      ],
      "execution_count": 28,
      "outputs": [
        {
          "output_type": "display_data",
          "data": {
            "image/png": "[encoded data removed]",
            "text/plain": [
              "<matplotlib.figure.Figure at 0x7f6480691b00>"
            ]
          },
          "metadata": {
            "tags": []
          }
        }
      ]
    },
    {
      "metadata": {
        "id": "R2JmEAtHOwut",
        "colab_type": "code",
        "colab": {}
      },
      "cell_type": "code",
      "source": [
        "\"\"\"%%time\n",
        "start = 2\n",
        "end = 100000 #len(PRIMES)\n",
        "step_size = 10000\n",
        "\n",
        "accuracies = []\n",
        "for p_size in range(start, end, step_size):\n",
        "  p, size = generate_random_primes(p_size, PRIMES)\n",
        "  X, Y, size = generate_x_y(p,None)\n",
        "  print(X.shape)\n",
        "  accuracy, res = test_inference(X,Y)\n",
        "  print(accuracy)\n",
        "  accuracies.append(accuracy)\n",
        "\n",
        "# plot the cost\n",
        "plt.plot(np.squeeze(accuracies))\n",
        "plt.ylabel('accuracies')\n",
        "plt.xlabel('iterations')\n",
        "plt.title(\"Step size =\" + str(step_size))\n",
        "plt.show()\"\"\"\n"
      ],
      "execution_count": 0,
      "outputs": []
    },
    {
      "metadata": {
        "id": "0aGidAFkILlq",
        "colab_type": "text"
      },
      "cell_type": "markdown",
      "source": [
        "## Inference - Sequence test.\n",
        "\n",
        "Check all to see if the model can accurately test for prime for all the PRIMES"
      ]
    },
    {
      "metadata": {
        "id": "dI0anIJVI1vB",
        "colab_type": "code",
        "colab": {
          "base_uri": "https://localhost:8080/",
          "height": 3145
        },
        "outputId": "cc63fe93-e233-4b89-bbcf-c1a2009c1bc2"
      },
      "cell_type": "code",
      "source": [
        "p = np.array(PRIMES)\n",
        "print(p.shape)\n",
        "size = p.shape[0]\n",
        "\n",
        "width = 25000\n",
        "for i in range(0,size,width):\n",
        "  x = p[i: i+width]\n",
        "  X, Y, size = generate_x_y(x,None)\n",
        "  accuracy, res = test_inference(X, Y)\n",
        "  failed_index = [x[i] for i in range(0, x.shape[0]) if res[i] == 0]\n",
        "  print (\"Accuracy:\", accuracy,\"Failed {}/{}\".format(len(failed_index),width))\n",
        "  \n",
        "  "
      ],
      "execution_count": 27,
      "outputs": [
        {
          "output_type": "stream",
          "text": [
            "(4552375,)\n",
            "Accuracy: 0.942 Failed 1450/25000\n",
            "Accuracy: 1.0 Failed 0/25000\n",
            "Accuracy: 1.0 Failed 0/25000\n",
            "Accuracy: 1.0 Failed 0/25000\n",
            "Accuracy: 1.0 Failed 0/25000\n",
            "Accuracy: 1.0 Failed 0/25000\n",
            "Accuracy: 1.0 Failed 0/25000\n",
            "Accuracy: 1.0 Failed 0/25000\n",
            "Accuracy: 1.0 Failed 0/25000\n",
            "Accuracy: 1.0 Failed 0/25000\n",
            "Accuracy: 1.0 Failed 0/25000\n",
            "Accuracy: 1.0 Failed 0/25000\n",
            "Accuracy: 1.0 Failed 0/25000\n",
            "Accuracy: 1.0 Failed 0/25000\n",
            "Accuracy: 1.0 Failed 0/25000\n",
            "Accuracy: 1.0 Failed 0/25000\n",
            "Accuracy: 1.0 Failed 0/25000\n",
            "Accuracy: 1.0 Failed 0/25000\n",
            "Accuracy: 1.0 Failed 0/25000\n",
            "Accuracy: 1.0 Failed 0/25000\n",
            "Accuracy: 1.0 Failed 0/25000\n",
            "Accuracy: 1.0 Failed 0/25000\n",
            "Accuracy: 1.0 Failed 0/25000\n",
            "Accuracy: 1.0 Failed 0/25000\n",
            "Accuracy: 1.0 Failed 0/25000\n",
            "Accuracy: 1.0 Failed 0/25000\n",
            "Accuracy: 1.0 Failed 0/25000\n",
            "Accuracy: 1.0 Failed 0/25000\n",
            "Accuracy: 1.0 Failed 0/25000\n",
            "Accuracy: 1.0 Failed 0/25000\n",
            "Accuracy: 1.0 Failed 0/25000\n",
            "Accuracy: 1.0 Failed 0/25000\n",
            "Accuracy: 1.0 Failed 0/25000\n",
            "Accuracy: 1.0 Failed 0/25000\n",
            "Accuracy: 1.0 Failed 0/25000\n",
            "Accuracy: 1.0 Failed 0/25000\n",
            "Accuracy: 1.0 Failed 0/25000\n",
            "Accuracy: 1.0 Failed 0/25000\n",
            "Accuracy: 1.0 Failed 0/25000\n",
            "Accuracy: 1.0 Failed 0/25000\n",
            "Accuracy: 1.0 Failed 0/25000\n",
            "Accuracy: 1.0 Failed 0/25000\n",
            "Accuracy: 1.0 Failed 0/25000\n",
            "Accuracy: 1.0 Failed 0/25000\n",
            "Accuracy: 1.0 Failed 0/25000\n",
            "Accuracy: 1.0 Failed 0/25000\n",
            "Accuracy: 1.0 Failed 0/25000\n",
            "Accuracy: 1.0 Failed 0/25000\n",
            "Accuracy: 1.0 Failed 0/25000\n",
            "Accuracy: 1.0 Failed 0/25000\n",
            "Accuracy: 1.0 Failed 0/25000\n",
            "Accuracy: 1.0 Failed 0/25000\n",
            "Accuracy: 1.0 Failed 0/25000\n",
            "Accuracy: 1.0 Failed 0/25000\n",
            "Accuracy: 1.0 Failed 0/25000\n",
            "Accuracy: 1.0 Failed 0/25000\n",
            "Accuracy: 1.0 Failed 0/25000\n",
            "Accuracy: 1.0 Failed 0/25000\n",
            "Accuracy: 1.0 Failed 0/25000\n",
            "Accuracy: 1.0 Failed 0/25000\n",
            "Accuracy: 1.0 Failed 0/25000\n",
            "Accuracy: 1.0 Failed 0/25000\n",
            "Accuracy: 1.0 Failed 0/25000\n",
            "Accuracy: 1.0 Failed 0/25000\n",
            "Accuracy: 1.0 Failed 0/25000\n",
            "Accuracy: 1.0 Failed 0/25000\n",
            "Accuracy: 1.0 Failed 0/25000\n",
            "Accuracy: 1.0 Failed 0/25000\n",
            "Accuracy: 1.0 Failed 0/25000\n",
            "Accuracy: 1.0 Failed 0/25000\n",
            "Accuracy: 1.0 Failed 0/25000\n",
            "Accuracy: 1.0 Failed 0/25000\n",
            "Accuracy: 1.0 Failed 0/25000\n",
            "Accuracy: 1.0 Failed 0/25000\n",
            "Accuracy: 1.0 Failed 0/25000\n",
            "Accuracy: 1.0 Failed 0/25000\n",
            "Accuracy: 1.0 Failed 0/25000\n",
            "Accuracy: 1.0 Failed 0/25000\n",
            "Accuracy: 1.0 Failed 0/25000\n",
            "Accuracy: 1.0 Failed 0/25000\n",
            "Accuracy: 1.0 Failed 0/25000\n",
            "Accuracy: 1.0 Failed 0/25000\n",
            "Accuracy: 1.0 Failed 0/25000\n",
            "Accuracy: 1.0 Failed 0/25000\n",
            "Accuracy: 1.0 Failed 0/25000\n",
            "Accuracy: 1.0 Failed 0/25000\n",
            "Accuracy: 1.0 Failed 0/25000\n",
            "Accuracy: 1.0 Failed 0/25000\n",
            "Accuracy: 1.0 Failed 0/25000\n",
            "Accuracy: 1.0 Failed 0/25000\n",
            "Accuracy: 1.0 Failed 0/25000\n",
            "Accuracy: 1.0 Failed 0/25000\n",
            "Accuracy: 1.0 Failed 0/25000\n",
            "Accuracy: 1.0 Failed 0/25000\n",
            "Accuracy: 1.0 Failed 0/25000\n",
            "Accuracy: 1.0 Failed 0/25000\n",
            "Accuracy: 1.0 Failed 0/25000\n",
            "Accuracy: 1.0 Failed 0/25000\n",
            "Accuracy: 1.0 Failed 0/25000\n",
            "Accuracy: 1.0 Failed 0/25000\n",
            "Accuracy: 1.0 Failed 0/25000\n",
            "Accuracy: 1.0 Failed 0/25000\n",
            "Accuracy: 1.0 Failed 0/25000\n",
            "Accuracy: 1.0 Failed 0/25000\n",
            "Accuracy: 1.0 Failed 0/25000\n",
            "Accuracy: 1.0 Failed 0/25000\n",
            "Accuracy: 1.0 Failed 0/25000\n",
            "Accuracy: 1.0 Failed 0/25000\n",
            "Accuracy: 1.0 Failed 0/25000\n",
            "Accuracy: 1.0 Failed 0/25000\n",
            "Accuracy: 1.0 Failed 0/25000\n",
            "Accuracy: 1.0 Failed 0/25000\n",
            "Accuracy: 1.0 Failed 0/25000\n",
            "Accuracy: 1.0 Failed 0/25000\n",
            "Accuracy: 1.0 Failed 0/25000\n",
            "Accuracy: 1.0 Failed 0/25000\n",
            "Accuracy: 1.0 Failed 0/25000\n",
            "Accuracy: 1.0 Failed 0/25000\n",
            "Accuracy: 1.0 Failed 0/25000\n",
            "Accuracy: 1.0 Failed 0/25000\n",
            "Accuracy: 1.0 Failed 0/25000\n",
            "Accuracy: 1.0 Failed 0/25000\n",
            "Accuracy: 1.0 Failed 0/25000\n",
            "Accuracy: 1.0 Failed 0/25000\n",
            "Accuracy: 1.0 Failed 0/25000\n",
            "Accuracy: 1.0 Failed 0/25000\n",
            "Accuracy: 1.0 Failed 0/25000\n",
            "Accuracy: 1.0 Failed 0/25000\n",
            "Accuracy: 1.0 Failed 0/25000\n",
            "Accuracy: 1.0 Failed 0/25000\n",
            "Accuracy: 1.0 Failed 0/25000\n",
            "Accuracy: 1.0 Failed 0/25000\n",
            "Accuracy: 1.0 Failed 0/25000\n",
            "Accuracy: 1.0 Failed 0/25000\n",
            "Accuracy: 1.0 Failed 0/25000\n",
            "Accuracy: 1.0 Failed 0/25000\n",
            "Accuracy: 1.0 Failed 0/25000\n",
            "Accuracy: 1.0 Failed 0/25000\n",
            "Accuracy: 1.0 Failed 0/25000\n",
            "Accuracy: 1.0 Failed 0/25000\n",
            "Accuracy: 1.0 Failed 0/25000\n",
            "Accuracy: 1.0 Failed 0/25000\n",
            "Accuracy: 1.0 Failed 0/25000\n",
            "Accuracy: 1.0 Failed 0/25000\n",
            "Accuracy: 1.0 Failed 0/25000\n",
            "Accuracy: 1.0 Failed 0/25000\n",
            "Accuracy: 1.0 Failed 0/25000\n",
            "Accuracy: 1.0 Failed 0/25000\n",
            "Accuracy: 1.0 Failed 0/25000\n",
            "Accuracy: 1.0 Failed 0/25000\n",
            "Accuracy: 1.0 Failed 0/25000\n",
            "Accuracy: 1.0 Failed 0/25000\n",
            "Accuracy: 1.0 Failed 0/25000\n",
            "Accuracy: 1.0 Failed 0/25000\n",
            "Accuracy: 1.0 Failed 0/25000\n",
            "Accuracy: 1.0 Failed 0/25000\n",
            "Accuracy: 1.0 Failed 0/25000\n",
            "Accuracy: 1.0 Failed 0/25000\n",
            "Accuracy: 1.0 Failed 0/25000\n",
            "Accuracy: 1.0 Failed 0/25000\n",
            "Accuracy: 1.0 Failed 0/25000\n",
            "Accuracy: 1.0 Failed 0/25000\n",
            "Accuracy: 1.0 Failed 0/25000\n",
            "Accuracy: 1.0 Failed 0/25000\n",
            "Accuracy: 1.0 Failed 0/25000\n",
            "Accuracy: 1.0 Failed 0/25000\n",
            "Accuracy: 1.0 Failed 0/25000\n",
            "Accuracy: 1.0 Failed 0/25000\n",
            "Accuracy: 1.0 Failed 0/25000\n",
            "Accuracy: 1.0 Failed 0/25000\n",
            "Accuracy: 1.0 Failed 0/25000\n",
            "Accuracy: 1.0 Failed 0/25000\n",
            "Accuracy: 1.0 Failed 0/25000\n",
            "Accuracy: 1.0 Failed 0/25000\n",
            "Accuracy: 1.0 Failed 0/25000\n",
            "Accuracy: 1.0 Failed 0/25000\n",
            "Accuracy: 1.0 Failed 0/25000\n",
            "Accuracy: 1.0 Failed 0/25000\n",
            "Accuracy: 1.0 Failed 0/25000\n",
            "Accuracy: 1.0 Failed 0/25000\n",
            "Accuracy: 1.0 Failed 0/25000\n",
            "Accuracy: 1.0 Failed 0/25000\n",
            "Accuracy: 1.0 Failed 0/25000\n"
          ],
          "name": "stdout"
        }
      ]
    },
    {
      "metadata": {
        "id": "DNdyYirBLkNx",
        "colab_type": "text"
      },
      "cell_type": "markdown",
      "source": [
        "## Inference - Accuracy outside the population\n",
        "\n",
        "For primes out side the sample space, the accuracy drops."
      ]
    },
    {
      "metadata": {
        "id": "dOsKsDjNK_Z1",
        "colab_type": "code",
        "colab": {
          "base_uri": "https://localhost:8080/",
          "height": 85
        },
        "outputId": "514b4de7-f407-49f1-ca9b-1fdc9eaf6bd7"
      },
      "cell_type": "code",
      "source": [
        "%%time\n",
        "p, size = generate_sequence_primes((end, end+100000))\n",
        "X, Y, size = generate_x_y(p,None)\n",
        "print(X.shape)\n",
        "\n",
        "accuracy, res = test_inference(X, Y)\n",
        "print (\"Accuracy:\", accuracy)\n",
        "\n"
      ],
      "execution_count": 30,
      "outputs": [
        {
          "output_type": "stream",
          "text": [
            "(32, 5511)\n",
            "Accuracy: 1.0\n",
            "CPU times: user 1.61 s, sys: 59.7 ms, total: 1.67 s\n",
            "Wall time: 1.68 s\n"
          ],
          "name": "stdout"
        }
      ]
    },
    {
      "metadata": {
        "id": "JKvxsTciVbSN",
        "colab_type": "text"
      },
      "cell_type": "markdown",
      "source": [
        "## Prime Numbers Visualization"
      ]
    },
    {
      "metadata": {
        "colab_type": "code",
        "colab": {
          "base_uri": "https://localhost:8080/",
          "height": 531
        },
        "outputId": "f12d3469-53cc-4b91-c32b-8fdf3b3a1c07",
        "id": "zhBqajztQCvr"
      },
      "cell_type": "code",
      "source": [
        "\n",
        "X_train, Y_train, training_size = generate_x_y(PRIMES[0:4096])\n",
        "data = X_train[:,:4096]\n",
        "show_pattern([matrix_to_image(data)],['Primes'])"
      ],
      "execution_count": 31,
      "outputs": [
        {
          "output_type": "display_data",
          "data": {
            "image/png": "[encoded data removed]",
            "text/plain": [
              "<matplotlib.figure.Figure at 0x7fa07c28bb70>"
            ]
          },
          "metadata": {
            "tags": []
          }
        }
      ]
    }
  ]
}