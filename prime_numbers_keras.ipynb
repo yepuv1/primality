{
  "nbformat": 4,
  "nbformat_minor": 0,
  "metadata": {
    "colab": {
      "name": "prime_numbers_keras.ipynb",
      "version": "0.3.2",
      "provenance": [],
      "include_colab_link": true
    },
    "kernelspec": {
      "name": "python3",
      "display_name": "Python 3"
    },
    "accelerator": "GPU"
  },
  "cells": [
    {
      "cell_type": "markdown",
      "metadata": {
        "id": "view-in-github",
        "colab_type": "text"
      },
      "source": [
        "<a href=\"https://colab.research.google.com/github/yepuv1/primality/blob/master/prime_numbers_keras.ipynb\" target=\"_parent\"><img src=\"https://colab.research.google.com/assets/colab-badge.svg\" alt=\"Open In Colab\"/></a>"
      ]
    },
    {
      "metadata": {
        "id": "-AnKDb-RcLo9",
        "colab_type": "text"
      },
      "cell_type": "markdown",
      "source": [
        "# A neural netowork to test the primality of a number."
      ]
    },
    {
      "metadata": {
        "id": "yhuvXbr5cV2s",
        "colab_type": "text"
      },
      "cell_type": "markdown",
      "source": [
        "## Install libraries on the VM"
      ]
    },
    {
      "metadata": {
        "id": "rk1RVi59VfZQ",
        "colab_type": "code",
        "colab": {}
      },
      "cell_type": "code",
      "source": [
        "!uname -a\n",
        "!lsb_release -a\n",
        "!apt install graphviz\n",
        "!pip install -q pydot"
      ],
      "execution_count": 0,
      "outputs": []
    },
    {
      "metadata": {
        "id": "QYrGh2z5cfzl",
        "colab_type": "text"
      },
      "cell_type": "markdown",
      "source": [
        "## Import python libraries"
      ]
    },
    {
      "metadata": {
        "id": "npLUzGm_sR6z",
        "colab_type": "code",
        "colab": {
          "base_uri": "https://localhost:8080/",
          "height": 34
        },
        "outputId": "f7e9c202-c8db-4845-beb4-1a6a24263e05"
      },
      "cell_type": "code",
      "source": [
        "import tensorflow as tf\n",
        "print(\"Tensorflow version: {}\".format(tf.__version__))"
      ],
      "execution_count": 2,
      "outputs": [
        {
          "output_type": "stream",
          "text": [
            "Tensorflow version: 1.12.0-rc2\n"
          ],
          "name": "stdout"
        }
      ]
    },
    {
      "metadata": {
        "id": "En_4TV_itmYh",
        "colab_type": "code",
        "colab": {
          "base_uri": "https://localhost:8080/",
          "height": 51
        },
        "outputId": "c393fffa-16c4-4857-b0ff-87b3245b6cd4"
      },
      "cell_type": "code",
      "source": [
        "print(tf.__version__)\n",
        "device_name = tf.test.gpu_device_name()\n",
        "if device_name != '/device:GPU:0':\n",
        "  raise SystemError('GPU device not found')\n",
        "print('Found GPU at: {}'.format(device_name))"
      ],
      "execution_count": 3,
      "outputs": [
        {
          "output_type": "stream",
          "text": [
            "1.12.0-rc2\n",
            "Found GPU at: /device:GPU:0\n"
          ],
          "name": "stdout"
        }
      ]
    },
    {
      "metadata": {
        "id": "cvhFiZiPtFu_",
        "colab_type": "code",
        "colab": {
          "base_uri": "https://localhost:8080/",
          "height": 34
        },
        "outputId": "52424e06-1b67-4abb-feee-875e21378b65"
      },
      "cell_type": "code",
      "source": [
        "import keras\n",
        "import numpy as np\n",
        "import math\n",
        "from sympy import primerange, sieve, composite, prime\n",
        "\n",
        "import pickle\n",
        "import timeit\n",
        "\n",
        "from PIL import Image, ImageColor\n",
        "%matplotlib inline\n",
        "import os\n",
        "\n",
        "np.random.seed(1)"
      ],
      "execution_count": 4,
      "outputs": [
        {
          "output_type": "stream",
          "text": [
            "Using TensorFlow backend.\n"
          ],
          "name": "stderr"
        }
      ]
    },
    {
      "metadata": {
        "id": "dO8ZOuF1cEk4",
        "colab_type": "text"
      },
      "cell_type": "markdown",
      "source": [
        "## Data preparation and utility functions"
      ]
    },
    {
      "metadata": {
        "id": "OZZ8iU8ItqNe",
        "colab_type": "code",
        "colab": {}
      },
      "cell_type": "code",
      "source": [
        "def convert_dec2bin(num_list,feature_size):\n",
        "  p_x = None\n",
        "  for p in num_list:\n",
        "    pb = bin(p)[2:].zfill(32)\n",
        "    li = [ int(i) for i in pb]\n",
        "    a1 = np.array(li).reshape((feature_size,1))\n",
        "    if p_x is None:\n",
        "      p_x = a1\n",
        "    else:\n",
        "      p_x = np.concatenate((p_x, a1), axis=1)\n",
        "  return p_x\n",
        "\n",
        "def generate_sequence_primes(between):\n",
        "  start, end = between\n",
        "  p_num = [i for i in primerange(start, end)]\n",
        "  return p_num, len(p_num)\n",
        "\n",
        "def generate_random_primes(size, primes):\n",
        "  le = len(primes)\n",
        "  p_num = [primes[i] for i in np.random.randint(le , size=size)]\n",
        "  return p_num, size\n",
        "\n",
        "def generate_composite(size, primes_set):\n",
        "  c_num = np.random.randint(10000000, size=size)\n",
        "  c_num = set(c_num)\n",
        "  c_num = c_num - primes_set\n",
        "  return list(c_num), len(c_num)\n",
        "\n",
        "def generate_x_y(primes=None, composites=None, feature_size=32, ):\n",
        "  c_examples_size = 0\n",
        "  c_x = None\n",
        "  c_y = None\n",
        "  p_examples_size = 0\n",
        "  p_x = None\n",
        "  p_y = None\n",
        "  X = None\n",
        "  Y = None\n",
        " \n",
        "  if primes is not None :\n",
        "    p_examples_size = len(primes)\n",
        "    p_x = convert_dec2bin(primes, feature_size)\n",
        "    p_y = np.ones(shape=(1,p_examples_size), dtype=np.int32)\n",
        "\n",
        "  if composites is not None:\n",
        "    c_examples_size = len(composites)\n",
        "    c_x = convert_dec2bin(composites, feature_size)\n",
        "    c_y = np.zeros(shape=(1,c_examples_size), dtype=np.int32)\n",
        "  \n",
        "  if c_x is not None and p_x is not None:\n",
        "    X = np.concatenate((c_x, p_x), axis=1)\n",
        "    size = p_examples_size + c_examples_size\n",
        "    Y = np.append(c_y, p_y).reshape((1, size))\n",
        "  elif p_x is not None:\n",
        "    X = p_x\n",
        "    Y = p_y\n",
        "    size = p_examples_size\n",
        "  elif c_x is not None:\n",
        "    X = c_x\n",
        "    Y = c_y\n",
        "    size = c_examples_size\n",
        "    \n",
        "    \n",
        "  return X, Y, size\n",
        "\n",
        "def one_hot_matrix(labels, C):\n",
        "    \"\"\"\n",
        "    Creates a matrix where the i-th row corresponds to the ith class number and the jth column\n",
        "                     corresponds to the jth training example. So if example j had a label i. Then entry (i,j) \n",
        "                     will be 1. \n",
        "                     \n",
        "    Arguments:\n",
        "    labels -- vector containing the labels \n",
        "    C -- number of classes, the depth of the one hot dimension\n",
        "    \n",
        "    Returns: \n",
        "    one_hot -- one hot matrix\n",
        "    \"\"\"\n",
        "    \n",
        "    C = tf.constant(dtype=tf.int32, name=\"C\", value=C)\n",
        "    one_hot_matrix = tf.one_hot(labels,depth=C, axis=0)\n",
        "    with tf.Session() as sess:\n",
        "      one_hot = sess.run(one_hot_matrix)\n",
        "   \n",
        "    return one_hot\n",
        "\n",
        "\n",
        "  \n",
        "def save_primes(file, start, end):\n",
        "  p_num = [i for i in primerange(start, end)]\n",
        "  pickle.dump( p_num, open(file, \"wb\" ))\n",
        "  return p_num\n",
        "\n",
        "def load_primes(file):\n",
        " return pickle.load(open(file, \"rb\" ))\n",
        "\n",
        "\n"
      ],
      "execution_count": 0,
      "outputs": []
    },
    {
      "metadata": {
        "id": "_tOTljaqbqas",
        "colab_type": "text"
      },
      "cell_type": "markdown",
      "source": [
        "## Generate the Primes"
      ]
    },
    {
      "metadata": {
        "id": "VWmIqomquqw2",
        "colab_type": "code",
        "colab": {
          "base_uri": "https://localhost:8080/",
          "height": 68
        },
        "outputId": "b9b4fc71-7e27-49ff-dbc4-72b023ca78a1"
      },
      "cell_type": "code",
      "source": [
        "%%time\n",
        "start = 2147483647 - 10000000\n",
        "end = 2147483647\n",
        "PRIMES_FILENAME = \"primes1.p\"\n",
        "if not os.path.exists(PRIMES_FILENAME):\n",
        "  PRIMES = save_primes(PRIMES_FILENAME, start, end)\n",
        "else:\n",
        "  PRIMES = load_primes(PRIMES_FILENAME)\n",
        "print(len(PRIMES))"
      ],
      "execution_count": 6,
      "outputs": [
        {
          "output_type": "stream",
          "text": [
            "465816\n",
            "CPU times: user 35 s, sys: 182 ms, total: 35.2 s\n",
            "Wall time: 35.2 s\n"
          ],
          "name": "stdout"
        }
      ]
    },
    {
      "metadata": {
        "id": "8cnfGKq5bu1U",
        "colab_type": "text"
      },
      "cell_type": "markdown",
      "source": [
        "## Generate the Training and Test Datasets"
      ]
    },
    {
      "metadata": {
        "id": "eOox3XhFu5Nz",
        "colab_type": "code",
        "colab": {}
      },
      "cell_type": "code",
      "source": [
        "examples_size = 5000\n",
        "primes_set = set(PRIMES)\n",
        "c, size = generate_composite(examples_size, primes_set)\n",
        "p, size = generate_random_primes(examples_size,PRIMES)\n",
        "s_p_train = set(p)\n",
        "X_train, Y_train, training_size = generate_x_y(p,c)\n",
        "\n",
        "\n",
        "examples_size = 100\n",
        "c, size = generate_composite(examples_size, primes_set)\n",
        "p, size = generate_random_primes(examples_size,PRIMES)\n",
        "\n",
        "# remove the primes common for both test and train\n",
        "s_p_test = set(p)\n",
        "s_p_test = s_p_test - s_p_train\n",
        "X_test, Y_test, test_size = generate_x_y(list(s_p_test),c)\n",
        "\n",
        "Y_train = one_hot_matrix(Y_train.reshape(training_size), 2)\n",
        "Y_test = one_hot_matrix(Y_test.reshape(test_size), 2)"
      ],
      "execution_count": 0,
      "outputs": []
    },
    {
      "metadata": {
        "id": "NHsjJM8jwPQo",
        "colab_type": "code",
        "colab": {
          "base_uri": "https://localhost:8080/",
          "height": 34
        },
        "outputId": "ce02a88f-6416-454a-fe39-8bcdc054a4be"
      },
      "cell_type": "code",
      "source": [
        "print(X_train.T.shape)"
      ],
      "execution_count": 8,
      "outputs": [
        {
          "output_type": "stream",
          "text": [
            "(9999, 32)\n"
          ],
          "name": "stdout"
        }
      ]
    },
    {
      "metadata": {
        "id": "AiuXlUH7bP-F",
        "colab_type": "text"
      },
      "cell_type": "markdown",
      "source": [
        "## Model Creation and Training"
      ]
    },
    {
      "metadata": {
        "id": "QoZ54uSuvGeS",
        "colab_type": "code",
        "colab": {
          "base_uri": "https://localhost:8080/",
          "height": 255
        },
        "outputId": "eb2da552-4bfc-46a3-f619-9321a8d14793"
      },
      "cell_type": "code",
      "source": [
        "# Create your first MLP in Keras\n",
        "from keras.models import Sequential\n",
        "from keras.layers import Dense\n",
        "\n",
        "\n",
        "X_train.shape\n",
        "\n",
        "# create model\n",
        "model = Sequential()\n",
        "model.add(Dense(64, input_dim=32, activation='relu'))\n",
        "model.add(Dense(2, input_dim=64,activation='sigmoid'))\n",
        "#model.add(Dense(2,input_dim=, activation='sigmoid'))\n",
        "# Compile model\n",
        "model.compile(loss='binary_crossentropy', optimizer='adam', metrics=['accuracy'])\n",
        "# Fit the model\n",
        "history = model.fit(X_train.T, Y_train.T, validation_split=0.25, epochs=5, batch_size=10, verbose=1)\n",
        "# evaluate the model\n",
        "scores = model.evaluate(X_train.T, Y_train.T)\n",
        "print(\"\\n%s: %.2f%%\" % (model.metrics_names[1], scores[1]*100))"
      ],
      "execution_count": 23,
      "outputs": [
        {
          "output_type": "stream",
          "text": [
            "Train on 7499 samples, validate on 2500 samples\n",
            "Epoch 1/5\n",
            "7499/7499 [==============================] - 5s 613us/step - loss: 0.0583 - acc: 0.9888 - val_loss: 0.0017 - val_acc: 1.0000\n",
            "Epoch 2/5\n",
            "7499/7499 [==============================] - 4s 596us/step - loss: 6.4632e-04 - acc: 1.0000 - val_loss: 3.6328e-04 - val_acc: 1.0000\n",
            "Epoch 3/5\n",
            "7499/7499 [==============================] - 4s 599us/step - loss: 2.0249e-04 - acc: 1.0000 - val_loss: 1.5672e-04 - val_acc: 1.0000\n",
            "Epoch 4/5\n",
            "7499/7499 [==============================] - 4s 596us/step - loss: 9.1716e-05 - acc: 1.0000 - val_loss: 7.4834e-05 - val_acc: 1.0000\n",
            "Epoch 5/5\n",
            "7499/7499 [==============================] - 4s 599us/step - loss: 4.8521e-05 - acc: 1.0000 - val_loss: 4.3673e-05 - val_acc: 1.0000\n",
            "9999/9999 [==============================] - 1s 64us/step\n",
            "\n",
            "acc: 100.00%\n"
          ],
          "name": "stdout"
        }
      ]
    },
    {
      "metadata": {
        "id": "kY6ShSFfbKI7",
        "colab_type": "text"
      },
      "cell_type": "markdown",
      "source": [
        "## Visualize the Model"
      ]
    },
    {
      "metadata": {
        "id": "J41ikCQWbCVi",
        "colab_type": "code",
        "colab": {}
      },
      "cell_type": "code",
      "source": [
        "from keras.utils import plot_model\n",
        "plot_model(model, to_file='model.png', show_shapes=True, show_layer_names=True, rankdir='LR' )\n",
        "from IPython.display import Image\n",
        "Image(filename='model.png') "
      ],
      "execution_count": 0,
      "outputs": []
    },
    {
      "metadata": {
        "id": "ju4hN5cZbear",
        "colab_type": "text"
      },
      "cell_type": "markdown",
      "source": [
        "## Visualize Model Accuracy"
      ]
    },
    {
      "metadata": {
        "id": "wwi83ftMYWfm",
        "colab_type": "code",
        "colab": {
          "base_uri": "https://localhost:8080/",
          "height": 571
        },
        "outputId": "bfd904af-c37d-4b44-c114-b412c6de938e"
      },
      "cell_type": "code",
      "source": [
        "import matplotlib.pyplot as plt\n",
        "\n",
        "\n",
        "# Plot training & validation accuracy values\n",
        "plt.plot(history.history['acc'])\n",
        "plt.plot(history.history['val_acc'])\n",
        "plt.title('Model accuracy')\n",
        "plt.ylabel('Accuracy')\n",
        "plt.xlabel('Epoch')\n",
        "plt.legend(['Train', 'Test'], loc='upper left')\n",
        "plt.show()\n",
        "\n",
        "# Plot training & validation loss values\n",
        "plt.plot(history.history['loss'])\n",
        "plt.plot(history.history['val_loss'])\n",
        "plt.title('Model loss')\n",
        "plt.ylabel('Loss')\n",
        "plt.xlabel('Epoch')\n",
        "plt.legend(['Train', 'Test'], loc='upper left')\n",
        "plt.show()"
      ],
      "execution_count": 24,
      "outputs": [
        {
          "output_type": "display_data",
          "data": {
            "image/png": "[encoded data removed]",
            "text/plain": [
              "<matplotlib.figure.Figure at 0x7f4c36e1b198>"
            ]
          },
          "metadata": {
            "tags": []
          }
        },
        {
          "output_type": "display_data",
          "data": {
            "image/png": "[encoded data removed]",
            "text/plain": [
              "<matplotlib.figure.Figure at 0x7f4c36e2fd68>"
            ]
          },
          "metadata": {
            "tags": []
          }
        }
      ]
    },
    {
      "metadata": {
        "id": "XXcAbpvwb6rH",
        "colab_type": "text"
      },
      "cell_type": "markdown",
      "source": [
        "## Evaluate the Test Datasets"
      ]
    },
    {
      "metadata": {
        "id": "_NQbOBUR3w1l",
        "colab_type": "code",
        "colab": {
          "base_uri": "https://localhost:8080/",
          "height": 68
        },
        "outputId": "dbfb9ba4-52d6-493f-fa0b-bbdf9740d3bd"
      },
      "cell_type": "code",
      "source": [
        "scores = model.evaluate(X_test.T, Y_test.T)\n",
        "print(\"\\n%s: %.2f%%\" % (model.metrics_names[1], scores[1]*100))"
      ],
      "execution_count": 11,
      "outputs": [
        {
          "output_type": "stream",
          "text": [
            "200/200 [==============================] - 0s 122us/step\n",
            "\n",
            "acc: 100.00%\n"
          ],
          "name": "stdout"
        }
      ]
    },
    {
      "metadata": {
        "id": "39Ch3nLK43g6",
        "colab_type": "text"
      },
      "cell_type": "markdown",
      "source": [
        "## Inference - Sequence test.\n",
        "\n",
        "Check all to see if the model can accurately test for prime for all the PRIMES"
      ]
    },
    {
      "metadata": {
        "id": "srJiDyUZ457c",
        "colab_type": "code",
        "colab": {
          "base_uri": "https://localhost:8080/",
          "height": 136
        },
        "outputId": "6d253b33-e435-4e14-d38f-44935e40f535"
      },
      "cell_type": "code",
      "source": [
        "p = np.array(PRIMES)\n",
        "print(p.shape)\n",
        "size = p.shape[0]\n",
        "\n",
        "width = 500\n",
        "for i in range(0,1000,width):\n",
        "  x = p[i: i+width]\n",
        "  X, Y, size = generate_x_y(x,None)\n",
        "  Y = one_hot_matrix(Y.reshape(size), 2)\n",
        "  scores = model.evaluate(X.T, Y.T)\n",
        "  print(\"\\n%s: %.2f%%\" % (model.metrics_names[1], scores[1]*100))\n",
        "  "
      ],
      "execution_count": 13,
      "outputs": [
        {
          "output_type": "stream",
          "text": [
            "(465816,)\n",
            "500/500 [==============================] - 0s 108us/step\n",
            "\n",
            "acc: 100.00%\n",
            "500/500 [==============================] - 0s 105us/step\n",
            "\n",
            "acc: 100.00%\n"
          ],
          "name": "stdout"
        }
      ]
    }
  ]
}