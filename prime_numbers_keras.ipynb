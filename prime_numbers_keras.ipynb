{
  "nbformat": 4,
  "nbformat_minor": 0,
  "metadata": {
    "colab": {
      "name": "prime_numbers_keras.ipynb",
      "version": "0.3.2",
      "provenance": [],
      "include_colab_link": true
    },
    "kernelspec": {
      "name": "python3",
      "display_name": "Python 3"
    },
    "accelerator": "GPU"
  },
  "cells": [
    {
      "cell_type": "markdown",
      "metadata": {
        "id": "view-in-github",
        "colab_type": "text"
      },
      "source": [
        "<a href=\"https://colab.research.google.com/github/yepuv1/primality/blob/master/prime_numbers_keras.ipynb\" target=\"_parent\"><img src=\"https://colab.research.google.com/assets/colab-badge.svg\" alt=\"Open In Colab\"/></a>"
      ]
    },
    {
      "metadata": {
        "id": "npLUzGm_sR6z",
        "colab_type": "code",
        "colab": {
          "base_uri": "https://localhost:8080/",
          "height": 34
        },
        "outputId": "c3868ff2-cd74-45c3-97a2-7d05b967ee8d"
      },
      "cell_type": "code",
      "source": [
        "import tensorflow as tf\n",
        "print(\"Tensorflow version: {}\".format(tf.__version__))"
      ],
      "execution_count": 17,
      "outputs": [
        {
          "output_type": "stream",
          "text": [
            "Tensorflow version: 1.12.0-rc2\n"
          ],
          "name": "stdout"
        }
      ]
    },
    {
      "metadata": {
        "id": "En_4TV_itmYh",
        "colab_type": "code",
        "colab": {
          "base_uri": "https://localhost:8080/",
          "height": 51
        },
        "outputId": "817be937-4317-4cc2-ba89-90c2e3d8c2cd"
      },
      "cell_type": "code",
      "source": [
        "print(tf.__version__)\n",
        "device_name = tf.test.gpu_device_name()\n",
        "if device_name != '/device:GPU:0':\n",
        "  raise SystemError('GPU device not found')\n",
        "print('Found GPU at: {}'.format(device_name))"
      ],
      "execution_count": 18,
      "outputs": [
        {
          "output_type": "stream",
          "text": [
            "1.12.0-rc2\n",
            "Found GPU at: /device:GPU:0\n"
          ],
          "name": "stdout"
        }
      ]
    },
    {
      "metadata": {
        "id": "cvhFiZiPtFu_",
        "colab_type": "code",
        "colab": {}
      },
      "cell_type": "code",
      "source": [
        "import keras\n",
        "import numpy as np\n",
        "import math\n",
        "from sympy import primerange, sieve, composite, prime\n",
        "\n",
        "import pickle\n",
        "import timeit\n",
        "\n",
        "from PIL import Image, ImageColor\n",
        "%matplotlib inline\n",
        "import os\n",
        "\n",
        "np.random.seed(1)"
      ],
      "execution_count": 0,
      "outputs": []
    },
    {
      "metadata": {
        "id": "OZZ8iU8ItqNe",
        "colab_type": "code",
        "colab": {}
      },
      "cell_type": "code",
      "source": [
        "def convert_dec2bin(num_list,feature_size):\n",
        "  p_x = None\n",
        "  for p in num_list:\n",
        "    pb = bin(p)[2:].zfill(32)\n",
        "    li = [ int(i) for i in pb]\n",
        "    a1 = np.array(li).reshape((feature_size,1))\n",
        "    if p_x is None:\n",
        "      p_x = a1\n",
        "    else:\n",
        "      p_x = np.concatenate((p_x, a1), axis=1)\n",
        "  return p_x\n",
        "\n",
        "def generate_sequence_primes(between):\n",
        "  start, end = between\n",
        "  p_num = [i for i in primerange(start, end)]\n",
        "  return p_num, len(p_num)\n",
        "\n",
        "def generate_random_primes(size, primes):\n",
        "  le = len(primes)\n",
        "  p_num = [primes[i] for i in np.random.randint(le , size=size)]\n",
        "  return p_num, size\n",
        "\n",
        "def generate_composite(size, primes_set):\n",
        "  c_num = np.random.randint(10000000, size=size)\n",
        "  c_num = set(c_num)\n",
        "  c_num = c_num - primes_set\n",
        "  return list(c_num), len(c_num)\n",
        "\n",
        "def generate_x_y(primes=None, composites=None, feature_size=32, ):\n",
        "  c_examples_size = 0\n",
        "  c_x = None\n",
        "  c_y = None\n",
        "  p_examples_size = 0\n",
        "  p_x = None\n",
        "  p_y = None\n",
        "  X = None\n",
        "  Y = None\n",
        " \n",
        "  if primes is not None :\n",
        "    p_examples_size = len(primes)\n",
        "    p_x = convert_dec2bin(primes, feature_size)\n",
        "    p_y = np.ones(shape=(1,p_examples_size), dtype=np.int32)\n",
        "\n",
        "  if composites is not None:\n",
        "    c_examples_size = len(composites)\n",
        "    c_x = convert_dec2bin(composites, feature_size)\n",
        "    c_y = np.zeros(shape=(1,c_examples_size), dtype=np.int32)\n",
        "  \n",
        "  if c_x is not None and p_x is not None:\n",
        "    X = np.concatenate((c_x, p_x), axis=1)\n",
        "    size = p_examples_size + c_examples_size\n",
        "    Y = np.append(c_y, p_y).reshape((1, size))\n",
        "  elif p_x is not None:\n",
        "    X = p_x\n",
        "    Y = p_y\n",
        "    size = p_examples_size\n",
        "  elif c_x is not None:\n",
        "    X = c_x\n",
        "    Y = c_y\n",
        "    size = c_examples_size\n",
        "    \n",
        "    \n",
        "  return X, Y, size\n",
        "\n",
        "def one_hot_matrix(labels, C):\n",
        "    \"\"\"\n",
        "    Creates a matrix where the i-th row corresponds to the ith class number and the jth column\n",
        "                     corresponds to the jth training example. So if example j had a label i. Then entry (i,j) \n",
        "                     will be 1. \n",
        "                     \n",
        "    Arguments:\n",
        "    labels -- vector containing the labels \n",
        "    C -- number of classes, the depth of the one hot dimension\n",
        "    \n",
        "    Returns: \n",
        "    one_hot -- one hot matrix\n",
        "    \"\"\"\n",
        "    \n",
        "    C = tf.constant(dtype=tf.int32, name=\"C\", value=C)\n",
        "    one_hot_matrix = tf.one_hot(labels,depth=C, axis=0)\n",
        "    with tf.Session() as sess:\n",
        "      one_hot = sess.run(one_hot_matrix)\n",
        "   \n",
        "    return one_hot\n",
        "\n",
        "\n",
        "  \n",
        "def save_primes(file, start, end):\n",
        "  p_num = [i for i in primerange(start, end)]\n",
        "  pickle.dump( p_num, open(file, \"wb\" ))\n",
        "  return p_num\n",
        "\n",
        "def load_primes(file):\n",
        " return pickle.load(open(file, \"rb\" ))\n",
        "\n",
        "\n"
      ],
      "execution_count": 0,
      "outputs": []
    },
    {
      "metadata": {
        "id": "VWmIqomquqw2",
        "colab_type": "code",
        "colab": {
          "base_uri": "https://localhost:8080/",
          "height": 68
        },
        "outputId": "98260d45-1a63-4421-cbae-b0ef3a231974"
      },
      "cell_type": "code",
      "source": [
        "%%time\n",
        "start = 2147483647 - 10000000\n",
        "end = 2147483647\n",
        "PRIMES_FILENAME = \"primes1.p\"\n",
        "if not os.path.exists(PRIMES_FILENAME):\n",
        "  PRIMES = save_primes(PRIMES_FILENAME, start, end)\n",
        "else:\n",
        "  PRIMES = load_primes(PRIMES_FILENAME)\n",
        "print(len(PRIMES))"
      ],
      "execution_count": 21,
      "outputs": [
        {
          "output_type": "stream",
          "text": [
            "465816\n",
            "CPU times: user 36.4 ms, sys: 5.99 ms, total: 42.3 ms\n",
            "Wall time: 47.2 ms\n"
          ],
          "name": "stdout"
        }
      ]
    },
    {
      "metadata": {
        "id": "eOox3XhFu5Nz",
        "colab_type": "code",
        "colab": {}
      },
      "cell_type": "code",
      "source": [
        "examples_size = 5000\n",
        "primes_set = set(PRIMES)\n",
        "c, size = generate_composite(examples_size, primes_set)\n",
        "p, size = generate_random_primes(examples_size,PRIMES)\n",
        "s_p_train = set(p)\n",
        "X_train, Y_train, training_size = generate_x_y(p,c)\n",
        "\n",
        "\n",
        "examples_size = 100\n",
        "c, size = generate_composite(examples_size, primes_set)\n",
        "p, size = generate_random_primes(examples_size,PRIMES)\n",
        "\n",
        "# remove the primes common for both test and train\n",
        "s_p_test = set(p)\n",
        "s_p_test = s_p_test - s_p_train\n",
        "X_test, Y_test, test_size = generate_x_y(list(s_p_test),c)\n",
        "\n",
        "Y_train = one_hot_matrix(Y_train.reshape(training_size), 2)\n",
        "Y_test = one_hot_matrix(Y_test.reshape(test_size), 2)"
      ],
      "execution_count": 0,
      "outputs": []
    },
    {
      "metadata": {
        "id": "NHsjJM8jwPQo",
        "colab_type": "code",
        "colab": {
          "base_uri": "https://localhost:8080/",
          "height": 34
        },
        "outputId": "135ef386-bef8-4420-ab0e-f0db1cc4c370"
      },
      "cell_type": "code",
      "source": [
        "print(X_train.T.shape)"
      ],
      "execution_count": 23,
      "outputs": [
        {
          "output_type": "stream",
          "text": [
            "(9999, 32)\n"
          ],
          "name": "stdout"
        }
      ]
    },
    {
      "metadata": {
        "id": "QoZ54uSuvGeS",
        "colab_type": "code",
        "colab": {}
      },
      "cell_type": "code",
      "source": [
        "# Create your first MLP in Keras\n",
        "from keras.models import Sequential\n",
        "from keras.layers import Dense\n",
        "\n",
        "\n",
        "X_train.shape\n",
        "\n",
        "# create model\n",
        "model = Sequential()\n",
        "model.add(Dense(64, input_dim=32, activation='relu'))\n",
        "model.add(Dense(2, input_dim=64,activation='sigmoid'))\n",
        "#model.add(Dense(2,input_dim=, activation='sigmoid'))\n",
        "# Compile model\n",
        "model.compile(loss='binary_crossentropy', optimizer='adam', metrics=['accuracy'])\n",
        "# Fit the model\n",
        "model.fit(X_train.T, Y_train.T, epochs=150, batch_size=10)\n",
        "# evaluate the model\n",
        "scores = model.evaluate(X_train.T, Y_train.T)\n",
        "print(\"\\n%s: %.2f%%\" % (model.metrics_names[1], scores[1]*100))"
      ],
      "execution_count": 0,
      "outputs": []
    },
    {
      "metadata": {
        "id": "_NQbOBUR3w1l",
        "colab_type": "code",
        "colab": {
          "base_uri": "https://localhost:8080/",
          "height": 68
        },
        "outputId": "26d449dd-eb7b-4f81-e312-805bd55d8598"
      },
      "cell_type": "code",
      "source": [
        "scores = model.evaluate(X_test.T, Y_test.T)\n",
        "print(\"\\n%s: %.2f%%\" % (model.metrics_names[1], scores[1]*100))"
      ],
      "execution_count": 25,
      "outputs": [
        {
          "output_type": "stream",
          "text": [
            "200/200 [==============================] - 0s 106us/step\n",
            "\n",
            "acc: 100.00%\n"
          ],
          "name": "stdout"
        }
      ]
    },
    {
      "metadata": {
        "id": "39Ch3nLK43g6",
        "colab_type": "text"
      },
      "cell_type": "markdown",
      "source": [
        "## Inference - Sequence test.\n",
        "\n",
        "Check all to see if the model can accurately test for prime for all the PRIMES"
      ]
    },
    {
      "metadata": {
        "id": "srJiDyUZ457c",
        "colab_type": "code",
        "colab": {
          "base_uri": "https://localhost:8080/",
          "height": 1303
        },
        "outputId": "556a1bf0-ab6d-4f55-df2f-61e838403c9e"
      },
      "cell_type": "code",
      "source": [
        "p = np.array(PRIMES)\n",
        "print(p.shape)\n",
        "size = p.shape[0]\n",
        "\n",
        "width = 25000\n",
        "for i in range(0,size,width):\n",
        "  x = p[i: i+width]\n",
        "  X, Y, size = generate_x_y(x,None)\n",
        "  Y = one_hot_matrix(Y.reshape(size), 2)\n",
        "  scores = model.evaluate(X.T, Y.T)\n",
        "  print(\"\\n%s: %.2f%%\" % (model.metrics_names[1], scores[1]*100))\n",
        "  "
      ],
      "execution_count": 31,
      "outputs": [
        {
          "output_type": "stream",
          "text": [
            "(465816,)\n",
            "25000/25000 [==============================] - 2s 75us/step\n",
            "\n",
            "acc: 100.00%\n",
            "25000/25000 [==============================] - 2s 75us/step\n",
            "\n",
            "acc: 100.00%\n",
            "25000/25000 [==============================] - 2s 75us/step\n",
            "\n",
            "acc: 100.00%\n",
            "25000/25000 [==============================] - 2s 76us/step\n",
            "\n",
            "acc: 100.00%\n",
            "25000/25000 [==============================] - 2s 74us/step\n",
            "\n",
            "acc: 100.00%\n",
            "25000/25000 [==============================] - 2s 75us/step\n",
            "\n",
            "acc: 100.00%\n",
            "25000/25000 [==============================] - 2s 74us/step\n",
            "\n",
            "acc: 100.00%\n",
            "25000/25000 [==============================] - 2s 76us/step\n",
            "\n",
            "acc: 100.00%\n",
            "25000/25000 [==============================] - 2s 74us/step\n",
            "\n",
            "acc: 100.00%\n",
            "25000/25000 [==============================] - 2s 75us/step\n",
            "\n",
            "acc: 100.00%\n",
            "25000/25000 [==============================] - 2s 73us/step\n",
            "\n",
            "acc: 100.00%\n",
            "25000/25000 [==============================] - 2s 74us/step\n",
            "\n",
            "acc: 100.00%\n",
            "25000/25000 [==============================] - 2s 75us/step\n",
            "\n",
            "acc: 100.00%\n",
            "25000/25000 [==============================] - 2s 79us/step\n",
            "\n",
            "acc: 100.00%\n",
            "25000/25000 [==============================] - 2s 75us/step\n",
            "\n",
            "acc: 100.00%\n",
            "25000/25000 [==============================] - 2s 75us/step\n",
            "\n",
            "acc: 100.00%\n"
          ],
          "name": "stdout"
        },
        {
          "output_type": "error",
          "ename": "KeyboardInterrupt",
          "evalue": "ignored",
          "traceback": [
            "\u001b[0;31m---------------------------------------------------------------------------\u001b[0m",
            "\u001b[0;31mKeyboardInterrupt\u001b[0m                         Traceback (most recent call last)",
            "\u001b[0;32m<ipython-input-31-55f088b178c9>\u001b[0m in \u001b[0;36m<module>\u001b[0;34m()\u001b[0m\n\u001b[1;32m      6\u001b[0m \u001b[0;32mfor\u001b[0m \u001b[0mi\u001b[0m \u001b[0;32min\u001b[0m \u001b[0mrange\u001b[0m\u001b[0;34m(\u001b[0m\u001b[0;36m0\u001b[0m\u001b[0;34m,\u001b[0m\u001b[0msize\u001b[0m\u001b[0;34m,\u001b[0m\u001b[0mwidth\u001b[0m\u001b[0;34m)\u001b[0m\u001b[0;34m:\u001b[0m\u001b[0;34m\u001b[0m\u001b[0m\n\u001b[1;32m      7\u001b[0m   \u001b[0mx\u001b[0m \u001b[0;34m=\u001b[0m \u001b[0mp\u001b[0m\u001b[0;34m[\u001b[0m\u001b[0mi\u001b[0m\u001b[0;34m:\u001b[0m \u001b[0mi\u001b[0m\u001b[0;34m+\u001b[0m\u001b[0mwidth\u001b[0m\u001b[0;34m]\u001b[0m\u001b[0;34m\u001b[0m\u001b[0m\n\u001b[0;32m----> 8\u001b[0;31m   \u001b[0mX\u001b[0m\u001b[0;34m,\u001b[0m \u001b[0mY\u001b[0m\u001b[0;34m,\u001b[0m \u001b[0msize\u001b[0m \u001b[0;34m=\u001b[0m \u001b[0mgenerate_x_y\u001b[0m\u001b[0;34m(\u001b[0m\u001b[0mx\u001b[0m\u001b[0;34m,\u001b[0m\u001b[0;32mNone\u001b[0m\u001b[0;34m)\u001b[0m\u001b[0;34m\u001b[0m\u001b[0m\n\u001b[0m\u001b[1;32m      9\u001b[0m   \u001b[0mY\u001b[0m \u001b[0;34m=\u001b[0m \u001b[0mone_hot_matrix\u001b[0m\u001b[0;34m(\u001b[0m\u001b[0mY\u001b[0m\u001b[0;34m.\u001b[0m\u001b[0mreshape\u001b[0m\u001b[0;34m(\u001b[0m\u001b[0msize\u001b[0m\u001b[0;34m)\u001b[0m\u001b[0;34m,\u001b[0m \u001b[0;36m2\u001b[0m\u001b[0;34m)\u001b[0m\u001b[0;34m\u001b[0m\u001b[0m\n\u001b[1;32m     10\u001b[0m   \u001b[0mscores\u001b[0m \u001b[0;34m=\u001b[0m \u001b[0mmodel\u001b[0m\u001b[0;34m.\u001b[0m\u001b[0mevaluate\u001b[0m\u001b[0;34m(\u001b[0m\u001b[0mX\u001b[0m\u001b[0;34m.\u001b[0m\u001b[0mT\u001b[0m\u001b[0;34m,\u001b[0m \u001b[0mY\u001b[0m\u001b[0;34m.\u001b[0m\u001b[0mT\u001b[0m\u001b[0;34m)\u001b[0m\u001b[0;34m\u001b[0m\u001b[0m\n",
            "\u001b[0;32m<ipython-input-20-b8c62459deac>\u001b[0m in \u001b[0;36mgenerate_x_y\u001b[0;34m(primes, composites, feature_size)\u001b[0m\n\u001b[1;32m     39\u001b[0m   \u001b[0;32mif\u001b[0m \u001b[0mprimes\u001b[0m \u001b[0;32mis\u001b[0m \u001b[0;32mnot\u001b[0m \u001b[0;32mNone\u001b[0m \u001b[0;34m:\u001b[0m\u001b[0;34m\u001b[0m\u001b[0m\n\u001b[1;32m     40\u001b[0m     \u001b[0mp_examples_size\u001b[0m \u001b[0;34m=\u001b[0m \u001b[0mlen\u001b[0m\u001b[0;34m(\u001b[0m\u001b[0mprimes\u001b[0m\u001b[0;34m)\u001b[0m\u001b[0;34m\u001b[0m\u001b[0m\n\u001b[0;32m---> 41\u001b[0;31m     \u001b[0mp_x\u001b[0m \u001b[0;34m=\u001b[0m \u001b[0mconvert_dec2bin\u001b[0m\u001b[0;34m(\u001b[0m\u001b[0mprimes\u001b[0m\u001b[0;34m,\u001b[0m \u001b[0mfeature_size\u001b[0m\u001b[0;34m)\u001b[0m\u001b[0;34m\u001b[0m\u001b[0m\n\u001b[0m\u001b[1;32m     42\u001b[0m     \u001b[0mp_y\u001b[0m \u001b[0;34m=\u001b[0m \u001b[0mnp\u001b[0m\u001b[0;34m.\u001b[0m\u001b[0mones\u001b[0m\u001b[0;34m(\u001b[0m\u001b[0mshape\u001b[0m\u001b[0;34m=\u001b[0m\u001b[0;34m(\u001b[0m\u001b[0;36m1\u001b[0m\u001b[0;34m,\u001b[0m\u001b[0mp_examples_size\u001b[0m\u001b[0;34m)\u001b[0m\u001b[0;34m,\u001b[0m \u001b[0mdtype\u001b[0m\u001b[0;34m=\u001b[0m\u001b[0mnp\u001b[0m\u001b[0;34m.\u001b[0m\u001b[0mint32\u001b[0m\u001b[0;34m)\u001b[0m\u001b[0;34m\u001b[0m\u001b[0m\n\u001b[1;32m     43\u001b[0m \u001b[0;34m\u001b[0m\u001b[0m\n",
            "\u001b[0;32m<ipython-input-20-b8c62459deac>\u001b[0m in \u001b[0;36mconvert_dec2bin\u001b[0;34m(num_list, feature_size)\u001b[0m\n\u001b[1;32m      8\u001b[0m       \u001b[0mp_x\u001b[0m \u001b[0;34m=\u001b[0m \u001b[0ma1\u001b[0m\u001b[0;34m\u001b[0m\u001b[0m\n\u001b[1;32m      9\u001b[0m     \u001b[0;32melse\u001b[0m\u001b[0;34m:\u001b[0m\u001b[0;34m\u001b[0m\u001b[0m\n\u001b[0;32m---> 10\u001b[0;31m       \u001b[0mp_x\u001b[0m \u001b[0;34m=\u001b[0m \u001b[0mnp\u001b[0m\u001b[0;34m.\u001b[0m\u001b[0mconcatenate\u001b[0m\u001b[0;34m(\u001b[0m\u001b[0;34m(\u001b[0m\u001b[0mp_x\u001b[0m\u001b[0;34m,\u001b[0m \u001b[0ma1\u001b[0m\u001b[0;34m)\u001b[0m\u001b[0;34m,\u001b[0m \u001b[0maxis\u001b[0m\u001b[0;34m=\u001b[0m\u001b[0;36m1\u001b[0m\u001b[0;34m)\u001b[0m\u001b[0;34m\u001b[0m\u001b[0m\n\u001b[0m\u001b[1;32m     11\u001b[0m   \u001b[0;32mreturn\u001b[0m \u001b[0mp_x\u001b[0m\u001b[0;34m\u001b[0m\u001b[0m\n\u001b[1;32m     12\u001b[0m \u001b[0;34m\u001b[0m\u001b[0m\n",
            "\u001b[0;31mKeyboardInterrupt\u001b[0m: "
          ]
        }
      ]
    }
  ]
}